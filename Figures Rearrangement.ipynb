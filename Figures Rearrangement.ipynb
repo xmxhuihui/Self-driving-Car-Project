{
 "cells": [
  {
   "cell_type": "code",
   "execution_count": 152,
   "metadata": {},
   "outputs": [],
   "source": [
    "import os\n",
    "import re\n",
    "from shutil import copyfile\n",
    "import random"
   ]
  },
  {
   "cell_type": "code",
   "execution_count": 153,
   "metadata": {},
   "outputs": [],
   "source": [
    "try:\n",
    "    cwd=os.getcwd()\n",
    "    base_dir=os.path.join(cwd,'figtmp')\n",
    "    training_dir=os.path.join(base_dir,'training')\n",
    "    testing_dir=os.path.join(base_dir,'testing')\n",
    "    training_dir_left=os.path.join(training_dir,'Left')\n",
    "    training_dir_right=os.path.join(training_dir,'Right')\n",
    "    training_dir_straight=os.path.join(training_dir,'Straight')\n",
    "    testing_dir_left=os.path.join(testing_dir,'Left')\n",
    "    testing_dir_right=os.path.join(testing_dir,'Right')\n",
    "    testing_dir_straight=os.path.join(testing_dir,'Straight')\n",
    "    os.mkdir(base_dir)\n",
    "    os.mkdir(training_dir)\n",
    "    os.mkdir(testing_dir)\n",
    "    os.mkdir(training_dir_left)\n",
    "    os.mkdir(training_dir_right)\n",
    "    os.mkdir(training_dir_straight)\n",
    "    os.mkdir(testing_dir_left)\n",
    "    os.mkdir(testing_dir_right)\n",
    "    os.mkdir(testing_dir_straight)\n",
    "except OSError:\n",
    "    pass"
   ]
  },
  {
   "cell_type": "code",
   "execution_count": 154,
   "metadata": {},
   "outputs": [],
   "source": [
    "def rearrangement(PATH,SPLIT_SIZE):\n",
    "    left=[]\n",
    "    right=[]\n",
    "    straight=[]\n",
    "    figlist=os.listdir(PATH)\n",
    "    for figname in figlist:\n",
    "        fig=os.path.join(PATH,figname)\n",
    "        val=re.findall(r'_(\\d+)_',figname)\n",
    "        val2=re.findall(r'_(\\d+)\\.',figname)\n",
    "        if len(val)!=0 and len(val2)!=0:\n",
    "            angle=val[0]\n",
    "            speed=val2[0]\n",
    "            if int(speed)!=0:\n",
    "                if int(angle)<=70:\n",
    "                    left.append(figname)\n",
    "                elif int(angle)>=110:\n",
    "                    right.append(figname)\n",
    "                else:\n",
    "                    straight.append(figname)\n",
    "    print(len(left))\n",
    "    print(len(right))\n",
    "    print(len(straight))\n",
    "    shuffled_left=random.sample(left,len(left))\n",
    "    shuffled_right=random.sample(right,len(right))\n",
    "    shuffled_straight=random.sample(straight,len(straight))\n",
    "    training_left_length=int(len(left)*SPLIT_SIZE)\n",
    "    testing_left_length=int(len(left)-training_left_length)\n",
    "    training_right_length=int(len(right)*SPLIT_SIZE)\n",
    "    testing_right_length=int(len(right)-training_right_length)\n",
    "    training_straight_length=int(len(straight)*SPLIT_SIZE)\n",
    "    testing_straight_length=int(len(straight)-training_straight_length)\n",
    "    training_left=shuffled_left[0:training_left_length]\n",
    "    testing_left=shuffled_left[:testing_left_length]\n",
    "    training_right=shuffled_right[0:training_right_length]\n",
    "    testing_right=shuffled_right[:testing_right_length]\n",
    "    training_straight=shuffled_straight[0:training_straight_length]\n",
    "    testing_straight=shuffled_straight[:testing_straight_length]\n",
    "    for fig in training_left:\n",
    "        copyfile(os.path.join(PATH,fig),os.path.join(training_dir_left,fig))\n",
    "    for fig in training_right:\n",
    "        copyfile(os.path.join(PATH,fig),os.path.join(training_dir_right,fig))\n",
    "    for fig in training_straight:\n",
    "        copyfile(os.path.join(PATH,fig),os.path.join(training_dir_straight,fig))\n",
    "    for fig in testing_left:\n",
    "        copyfile(os.path.join(PATH,fig),os.path.join(testing_dir_left,fig))\n",
    "    for fig in testing_right:\n",
    "        copyfile(os.path.join(PATH,fig),os.path.join(testing_dir_right,fig))\n",
    "    for fig in testing_straight:\n",
    "        copyfile(os.path.join(PATH,fig),os.path.join(testing_dir_straight,fig))"
   ]
  },
  {
   "cell_type": "code",
   "execution_count": 155,
   "metadata": {},
   "outputs": [
    {
     "name": "stdout",
     "output_type": "stream",
     "text": [
      "23\n",
      "1\n",
      "42\n",
      "0\n",
      "26\n",
      "72\n",
      "23\n",
      "1\n",
      "37\n"
     ]
    }
   ],
   "source": [
    "rearrangement(os.path.join(cwd,'Oval_Track/capture1'),0.9)\n",
    "rearrangement(os.path.join(cwd,'Oval_Track/capture2'),0.9)\n",
    "rearrangement(os.path.join(cwd,'Oval_Track/capture1/trial1'),0.9)"
   ]
  },
  {
   "cell_type": "code",
   "execution_count": null,
   "metadata": {},
   "outputs": [],
   "source": []
  }
 ],
 "metadata": {
  "kernelspec": {
   "display_name": "Python 3",
   "language": "python",
   "name": "python3"
  },
  "language_info": {
   "codemirror_mode": {
    "name": "ipython",
    "version": 3
   },
   "file_extension": ".py",
   "mimetype": "text/x-python",
   "name": "python",
   "nbconvert_exporter": "python",
   "pygments_lexer": "ipython3",
   "version": "3.7.3"
  }
 },
 "nbformat": 4,
 "nbformat_minor": 4
}
