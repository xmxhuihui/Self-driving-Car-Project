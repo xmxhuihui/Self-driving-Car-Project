{
 "cells": [
  {
   "cell_type": "markdown",
   "metadata": {
    "colab_type": "text",
    "id": "hq1AS2ym_fP0"
   },
   "source": [
    "Let us again attempt to learn the XOR function using the same MLP network,  this time starting with random initial weights and using back-propogation with simple gradient descent.\n",
    "\n",
    "The error functions for each neuron are\n",
    "\\begin{eqnarray}\n",
    "\\Delta_1^{(2)} &=& {\\partial{J} \\over \\partial a_1^{(2)}}\\,, \\\\\n",
    "\\Delta_1^{(1)} &=&  \\Delta_1^{(2)} W_{11}^{(2)}   \\Theta ( z_1^{(1)} )  \\\\\n",
    "\\Delta_2^{(1)} &=&  \\Delta_1^{(2)} W_{21}^{(2)}  \\Theta ( z_2^{(1)} )  \\,,\n",
    "\\end{eqnarray}\n",
    "since the Heaviside step function $\\Theta$ is the derivative of the ReLU activation function."
   ]
  },
  {
   "cell_type": "code",
   "execution_count": null,
   "metadata": {
    "colab": {},
    "colab_type": "code",
    "id": "QVbMGrw2__Zm"
   },
   "outputs": [],
   "source": [
    "[![Open In Colab](https://colab.research.google.com/assets/colab-badge.svg)](https://colab.research.google.com/github/googlecolab/colabtools/blob/master/notebooks/colab-github-demo.ipynb)"
   ]
  },
  {
   "cell_type": "code",
   "execution_count": 0,
   "metadata": {
    "colab": {},
    "colab_type": "code",
    "id": "QVbMGrw2__Zm"
   },
   "outputs": [],
   "source": [
    "import numpy as np\n",
    "import matplotlib.pyplot as plt\n",
    "import math"
   ]
  },
  {
   "cell_type": "code",
   "execution_count": 0,
   "metadata": {
    "colab": {},
    "colab_type": "code",
    "id": "7udklsBw_TOu"
   },
   "outputs": [],
   "source": [
    "np.random.seed(2)"
   ]
  },
  {
   "cell_type": "code",
   "execution_count": 277,
   "metadata": {
    "colab": {
     "base_uri": "https://localhost:8080/",
     "height": 85
    },
    "colab_type": "code",
    "id": "f_EC8JkUAHwO",
    "outputId": "e52e6367-a76f-4bb7-830a-ac47a32b2136"
   },
   "outputs": [
    {
     "name": "stdout",
     "output_type": "stream",
     "text": [
      "[[0 0]\n",
      " [0 1]\n",
      " [1 0]\n",
      " [1 1]]\n"
     ]
    }
   ],
   "source": [
    "X = np.array([[0,0], [0,1], [1,0], [1,1]])\n",
    "print(X)"
   ]
  },
  {
   "cell_type": "code",
   "execution_count": 278,
   "metadata": {
    "colab": {
     "base_uri": "https://localhost:8080/",
     "height": 85
    },
    "colab_type": "code",
    "id": "JzYShJU4ANmR",
    "outputId": "e980a9fb-f9a9-47ae-ecf5-b3be2fd7e822"
   },
   "outputs": [
    {
     "name": "stdout",
     "output_type": "stream",
     "text": [
      "[[0]\n",
      " [1]\n",
      " [1]\n",
      " [0]]\n"
     ]
    }
   ],
   "source": [
    "Y = np.array([[0], [1], [1], [0]])\n",
    "print(Y)"
   ]
  },
  {
   "cell_type": "code",
   "execution_count": 0,
   "metadata": {
    "colab": {},
    "colab_type": "code",
    "id": "KFxtTE3DGs09"
   },
   "outputs": [],
   "source": [
    "def sigmoid(x):\n",
    "  return 1/(1 + np.exp(-x))"
   ]
  },
  {
   "cell_type": "markdown",
   "metadata": {
    "colab_type": "text",
    "id": "E3O5LePZVjzp"
   },
   "source": [
    "Define the MLP model"
   ]
  },
  {
   "cell_type": "code",
   "execution_count": 0,
   "metadata": {
    "colab": {},
    "colab_type": "code",
    "id": "TuU43LLm_Aj1"
   },
   "outputs": [],
   "source": [
    "class MLP(object):\n",
    "\n",
    "  def __init__(self):\n",
    "    # Initialise with random weights\n",
    "    self.weights_1 = 0.1 * np.random.normal(size=(3,2))\n",
    "    self.weights_2 = 0.1 * np.random.normal(size=(3,1))\n",
    "\n",
    "  def forward(self, x):\n",
    "    # Do a forward pass\n",
    "    if len(x.shape) == 1:\n",
    "      # Single example, so add a batch dimension of 1\n",
    "      x = np.expand_dims(x, axis=0)\n",
    "    # Hidden layer \n",
    "    z_1 = np.matmul(np.hstack((np.ones(shape=(x.shape[0], 1)), x)), self.weights_1)\n",
    "    # Apply ReLU activation function\n",
    "    a_1 = np.maximum(z_1, 0)\n",
    "    # Output layer\n",
    "    z_2 = np.matmul(np.hstack((np.ones(shape=(a_1.shape[0], 1)), a_1)), self.weights_2)\n",
    "    # Linear activation \n",
    "    a_2 = sigmoid(z_2)\n",
    "    return z_1, a_1, z_2, a_2"
   ]
  },
  {
   "cell_type": "markdown",
   "metadata": {
    "colab_type": "text",
    "id": "dSTxT91KjAe4"
   },
   "source": [
    "Push the true solution through the network and check it gives zero loss"
   ]
  },
  {
   "cell_type": "code",
   "execution_count": 281,
   "metadata": {
    "colab": {
     "base_uri": "https://localhost:8080/",
     "height": 34
    },
    "colab_type": "code",
    "id": "GGnwcJdzUs1l",
    "outputId": "a48ccef6-7a75-4714-b003-45c64aca1336"
   },
   "outputs": [
    {
     "name": "stdout",
     "output_type": "stream",
     "text": [
      "0.16116474406425663\n"
     ]
    }
   ],
   "source": [
    "m = MLP()\n",
    "m.weights_1 = np.array([[0, -1], [1,1], [1,1]], dtype=np.float)\n",
    "m.weights_2 = np.array([[0], [1], [-2]], dtype=np.float)\n",
    "z_1, a_1, z_2, a_2 = m.forward(X)\n",
    "print(0.25 * np.sum((a_2 - Y)**2))"
   ]
  },
  {
   "cell_type": "code",
   "execution_count": 0,
   "metadata": {
    "colab": {},
    "colab_type": "code",
    "id": "kkRYVpaF9pQc"
   },
   "outputs": [],
   "source": [
    "num_epochs = 10001\n",
    "learning_rate = 0.01"
   ]
  },
  {
   "cell_type": "markdown",
   "metadata": {
    "colab_type": "text",
    "id": "eaq2lIzwqoPY"
   },
   "source": [
    "Update random initial weights and biases by back-prop"
   ]
  },
  {
   "cell_type": "code",
   "execution_count": 283,
   "metadata": {
    "colab": {
     "base_uri": "https://localhost:8080/",
     "height": 1000
    },
    "colab_type": "code",
    "id": "kaRG-DXJjiD1",
    "outputId": "c05c5f3e-6e96-4f6e-c096-4c9d1fc38538"
   },
   "outputs": [
    {
     "name": "stdout",
     "output_type": "stream",
     "text": [
      "0 2.773940953225543\n",
      "100 2.722399974140773\n",
      "200 2.3310012219244802\n",
      "300 1.9048283785878795\n",
      "400 1.1995438980969595\n",
      "500 nan\n",
      "600 nan\n",
      "700 nan\n",
      "800 nan\n",
      "900 nan\n",
      "1000 nan\n",
      "1100 nan\n"
     ]
    },
    {
     "name": "stderr",
     "output_type": "stream",
     "text": [
      "/usr/local/lib/python3.6/dist-packages/ipykernel_launcher.py:9: RuntimeWarning: divide by zero encountered in log\n",
      "  if __name__ == '__main__':\n",
      "/usr/local/lib/python3.6/dist-packages/ipykernel_launcher.py:9: RuntimeWarning: invalid value encountered in multiply\n",
      "  if __name__ == '__main__':\n",
      "/usr/local/lib/python3.6/dist-packages/ipykernel_launcher.py:15: RuntimeWarning: invalid value encountered in true_divide\n",
      "  from ipykernel import kernelapp as app\n"
     ]
    },
    {
     "name": "stdout",
     "output_type": "stream",
     "text": [
      "1200 nan\n",
      "1300 nan\n",
      "1400 nan\n",
      "1500 nan\n",
      "1600 nan\n",
      "1700 nan\n",
      "1800 nan\n",
      "1900 nan\n",
      "2000 nan\n",
      "2100 nan\n",
      "2200 nan\n",
      "2300 nan\n",
      "2400 nan\n",
      "2500 nan\n",
      "2600 nan\n",
      "2700 nan\n",
      "2800 nan\n",
      "2900 nan\n",
      "3000 nan\n",
      "3100 nan\n",
      "3200 nan\n",
      "3300 nan\n",
      "3400 nan\n",
      "3500 nan\n",
      "3600 nan\n",
      "3700 nan\n",
      "3800 nan\n",
      "3900 nan\n",
      "4000 nan\n",
      "4100 nan\n",
      "4200 nan\n",
      "4300 nan\n",
      "4400 nan\n",
      "4500 nan\n",
      "4600 nan\n",
      "4700 nan\n",
      "4800 nan\n",
      "4900 nan\n",
      "5000 nan\n",
      "5100 nan\n",
      "5200 nan\n",
      "5300 nan\n",
      "5400 nan\n",
      "5500 nan\n",
      "5600 nan\n",
      "5700 nan\n",
      "5800 nan\n",
      "5900 nan\n",
      "6000 nan\n",
      "6100 nan\n",
      "6200 nan\n",
      "6300 nan\n",
      "6400 nan\n",
      "6500 nan\n",
      "6600 nan\n",
      "6700 nan\n",
      "6800 nan\n",
      "6900 nan\n",
      "7000 nan\n",
      "7100 nan\n",
      "7200 nan\n",
      "7300 nan\n",
      "7400 nan\n",
      "7500 nan\n",
      "7600 nan\n",
      "7700 nan\n",
      "7800 nan\n",
      "7900 nan\n",
      "8000 nan\n",
      "8100 nan\n",
      "8200 nan\n",
      "8300 nan\n",
      "8400 nan\n",
      "8500 nan\n",
      "8600 nan\n",
      "8700 nan\n",
      "8800 nan\n",
      "8900 nan\n",
      "9000 nan\n",
      "9100 nan\n",
      "9200 nan\n",
      "9300 nan\n",
      "9400 nan\n",
      "9500 nan\n",
      "9600 nan\n",
      "9700 nan\n",
      "9800 nan\n",
      "9900 nan\n",
      "10000 nan\n"
     ]
    }
   ],
   "source": [
    "m = MLP()\n",
    "loss_history = []\n",
    "weights_1_history = []\n",
    "weights_2_history = []\n",
    "for epoch in range(num_epochs):\n",
    "  # Do forward pass\n",
    "  z_1, a_1, z_2, a_2 = m.forward(X)\n",
    "  #loss = 0.25 * np.sum((a_2 - Y)**2)\n",
    "  loss=-np.sum((Y*np.log(a_2)+(np.ones(Y.shape)-Y)*np.log(np.ones(a_2.shape)-a_2)))\n",
    "  loss_history.append(loss)\n",
    "  if epoch % 100 == 0:\n",
    "    print(epoch, loss)\n",
    "  # Delta_2 has shape(4, 1), the first dimension being the batch dimension\n",
    "  #delta_2 = 0.5 * ( a_2 - Y)\n",
    "  delta_2=-(Y/a_2+(np.ones(Y.shape)-Y)/(a_2-np.ones(a_2.shape)))\n",
    "  g_prime_1 = np.heaviside(z_1, 0)\n",
    "  # Delta_1 has shape (4, 2)\n",
    "  delta_1 = np.matmul(delta_2, m.weights_2[1:3, :].T) * g_prime_1\n",
    "  # Biases of layers connecting input and hidden layers\n",
    "  m.weights_1[0, :] -= learning_rate * np.sum(delta_1[:, :], axis=0)\n",
    "  # Weights of layers connecting input and hidden layers \n",
    "  m.weights_1[1:3, :] -= learning_rate * np.matmul(X.T, delta_1)\n",
    "  # Biases of layers connecting hidden and output layers\n",
    "  m.weights_2[0, 0] -= learning_rate * np.sum(delta_2[:, :], axis=0)\n",
    "  # Weights of layers connecting hidden and output layers\n",
    "  m.weights_2[1:3, 0:1] -= learning_rate * np.matmul(a_1.T, delta_2)\n",
    "  weights_1_history.append(np.copy(m.weights_1))\n",
    "  weights_2_history.append(np.copy(m.weights_2))\n",
    "loss_history = np.array(loss_history)\n",
    "weights_1_history = np.array(weights_1_history)\n",
    "weights_2_history = np.array(weights_2_history)"
   ]
  },
  {
   "cell_type": "code",
   "execution_count": 284,
   "metadata": {
    "colab": {
     "base_uri": "https://localhost:8080/",
     "height": 369
    },
    "colab_type": "code",
    "id": "l_UNqVI12Fez",
    "outputId": "b427b82b-9b3e-4f1f-ca29-682ddb92e16b"
   },
   "outputs": [
    {
     "data": {
      "image/png": "[encoded data removed]",
      "text/plain": [
       "<Figure size 1080x360 with 10 Axes>"
      ]
     },
     "metadata": {
      "tags": []
     },
     "output_type": "display_data"
    }
   ],
   "source": [
    "plt.figure(figsize=(15, 5))\n",
    "ax = plt.subplot(2, 5, 1)\n",
    "ax.plot(loss_history[:])\n",
    "ax.set_xlabel('Epoch', fontsize=14)\n",
    "ax.set_ylabel('Loss', fontsize=14)\n",
    "ax = plt.subplot(2, 5, 2)\n",
    "ax.plot(weights_1_history[:,0,0])\n",
    "ax.set_xlabel('Epoch', fontsize=14)\n",
    "ax.set_ylabel('$c_1$', fontsize=14)\n",
    "ax = plt.subplot(2, 5, 3)\n",
    "ax.plot(weights_1_history[:,0,1])\n",
    "ax.set_xlabel('Epoch', fontsize=14)\n",
    "ax.set_ylabel('$c_2$', fontsize=14)\n",
    "ax = plt.subplot(2, 5, 4)\n",
    "ax.plot(weights_1_history[:,1,0])\n",
    "ax.set_xlabel('Epoch', fontsize=14)\n",
    "ax.set_ylabel('$W_{11}$', fontsize=14)\n",
    "ax = plt.subplot(2, 5, 5)\n",
    "ax.plot(weights_1_history[:,1,1])\n",
    "ax.set_xlabel('Epoch', fontsize=14)\n",
    "ax.set_ylabel('$W_{12}$', fontsize=14)\n",
    "ax = plt.subplot(2, 5, 6)\n",
    "ax.plot(weights_1_history[:,2,0])\n",
    "ax.set_xlabel('Epoch', fontsize=14)\n",
    "ax.set_ylabel('$W_{21}$', fontsize=14)\n",
    "ax = plt.subplot(2, 5, 7)\n",
    "ax.plot(weights_1_history[:,2,1])\n",
    "ax.set_xlabel('Epoch', fontsize=14)\n",
    "ax.set_ylabel('$W_{22}$', fontsize=14)\n",
    "ax = plt.subplot(2, 5, 8)\n",
    "ax.plot(weights_2_history[:,0,0])\n",
    "ax.set_xlabel('Epoch', fontsize=14)\n",
    "ax.set_ylabel('$b$', fontsize=14)\n",
    "ax = plt.subplot(2, 5, 9)\n",
    "ax.plot(weights_2_history[:,1,0])\n",
    "ax.set_xlabel('Epoch', fontsize=14)\n",
    "ax.set_ylabel('$w_1$', fontsize=14)\n",
    "ax = plt.subplot(2, 5, 10)\n",
    "ax.plot(weights_2_history[:,2,0])\n",
    "ax.set_xlabel('Epoch', fontsize=14)\n",
    "ax.set_ylabel('$w_2$', fontsize=14)\n",
    "plt.tight_layout()\n",
    "plt.show()"
   ]
  },
  {
   "cell_type": "code",
   "execution_count": 285,
   "metadata": {
    "colab": {
     "base_uri": "https://localhost:8080/",
     "height": 68
    },
    "colab_type": "code",
    "id": "lVModDozl3CF",
    "outputId": "32e92174-dbc1-49ce-e620-1c68743b2322"
   },
   "outputs": [
    {
     "name": "stdout",
     "output_type": "stream",
     "text": [
      "[[nan nan]\n",
      " [nan nan]\n",
      " [nan nan]]\n"
     ]
    }
   ],
   "source": [
    "print(m.weights_1)"
   ]
  },
  {
   "cell_type": "code",
   "execution_count": 286,
   "metadata": {
    "colab": {
     "base_uri": "https://localhost:8080/",
     "height": 68
    },
    "colab_type": "code",
    "id": "AbgcccxHoKjC",
    "outputId": "c03ec698-fa3d-4414-b5be-bd59d38a9682"
   },
   "outputs": [
    {
     "name": "stdout",
     "output_type": "stream",
     "text": [
      "[[nan]\n",
      " [nan]\n",
      " [nan]]\n"
     ]
    }
   ],
   "source": [
    "print(m.weights_2)"
   ]
  },
  {
   "cell_type": "code",
   "execution_count": 287,
   "metadata": {
    "colab": {
     "base_uri": "https://localhost:8080/",
     "height": 85
    },
    "colab_type": "code",
    "id": "nePskL-toOUq",
    "outputId": "af1fd32a-31e2-4ad6-e4ea-fb73093529ce"
   },
   "outputs": [
    {
     "name": "stdout",
     "output_type": "stream",
     "text": [
      "[[nan]\n",
      " [nan]\n",
      " [nan]\n",
      " [nan]]\n"
     ]
    }
   ],
   "source": [
    "z_1, a_1, z_2, a_2 = m.forward(X)\n",
    "print(a_2)"
   ]
  }
 ],
 "metadata": {
  "colab": {
   "name": "backprop.ipynb",
   "provenance": []
  },
  "kernelspec": {
   "display_name": "Python 3",
   "language": "python",
   "name": "python3"
  },
  "language_info": {
   "codemirror_mode": {
    "name": "ipython",
    "version": 3
   },
   "file_extension": ".py",
   "mimetype": "text/x-python",
   "name": "python",
   "nbconvert_exporter": "python",
   "pygments_lexer": "ipython3",
   "version": "3.7.3"
  }
 },
 "nbformat": 4,
 "nbformat_minor": 1
}
